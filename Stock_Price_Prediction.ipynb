{
  "nbformat": 4,
  "nbformat_minor": 0,
  "metadata": {
    "colab": {
      "name": "Stock_Price_Prediction.ipynb",
      "provenance": [],
      "collapsed_sections": [],
      "toc_visible": true,
      "authorship_tag": "ABX9TyOxpGsXbWumUHqJHIjbSrUx",
      "include_colab_link": true
    },
    "kernelspec": {
      "name": "python3",
      "display_name": "Python 3"
    },
    "language_info": {
      "name": "python"
    },
    "accelerator": "GPU"
  },
  "cells": [
    {
      "cell_type": "markdown",
      "metadata": {
        "id": "view-in-github",
        "colab_type": "text"
      },
      "source": [
        "<a href=\"https://colab.research.google.com/github/hemantvpandit333/Stock-Price-Prediction/blob/main/Stock_Price_Prediction.ipynb\" target=\"_parent\"><img src=\"https://colab.research.google.com/assets/colab-badge.svg\" alt=\"Open In Colab\"/></a>"
      ]
    },
    {
      "cell_type": "code",
      "metadata": {
        "colab": {
          "base_uri": "https://localhost:8080/"
        },
        "id": "UYc-Fd07X3bg",
        "outputId": "367046d3-bc3f-413e-882f-0c3df5e2aa18"
      },
      "source": [
        "from google.colab import drive\n",
        "drive.mount('/content/drive')"
      ],
      "execution_count": 106,
      "outputs": [
        {
          "output_type": "stream",
          "text": [
            "Drive already mounted at /content/drive; to attempt to forcibly remount, call drive.mount(\"/content/drive\", force_remount=True).\n"
          ],
          "name": "stdout"
        }
      ]
    },
    {
      "cell_type": "code",
      "metadata": {
        "colab": {
          "base_uri": "https://localhost:8080/"
        },
        "id": "P30Ki4A2nFSJ",
        "outputId": "8619a212-65fd-4f49-f9d9-91b9a492f68f"
      },
      "source": [
        "from zipfile import ZipFile\n",
        "\n",
        "file_name = '/content/drive/My Drive/Machine Learning/Stock Price Prediction/Nifty 50 dataset.zip'\n",
        "with ZipFile(file_name , 'r') as zip:\n",
        "  zip.extractall()\n",
        "  print('done')"
      ],
      "execution_count": 107,
      "outputs": [
        {
          "output_type": "stream",
          "text": [
            "done\n"
          ],
          "name": "stdout"
        }
      ]
    },
    {
      "cell_type": "code",
      "metadata": {
        "id": "R0P0EuILYhjk"
      },
      "source": [
        "import numpy as np\n",
        "import pandas as pd\n",
        "import matplotlib.pyplot as plt\n",
        "import datetime\n",
        "import math\n",
        "from sklearn.preprocessing import MinMaxScaler, minmax_scale\n",
        "from keras.layers import Dense, LSTM, Dropout\n",
        "from keras.models import Sequential\n",
        "from sklearn.svm import SVR\n",
        "from sklearn.ensemble import RandomForestRegressor, GradientBoostingRegressor\n",
        "from sklearn.model_selection import train_test_split\n",
        "from sklearn.metrics import mean_squared_error, mean_absolute_error"
      ],
      "execution_count": 108,
      "outputs": []
    },
    {
      "cell_type": "code",
      "metadata": {
        "colab": {
          "base_uri": "https://localhost:8080/",
          "height": 622
        },
        "id": "6XUhBrSxYOQC",
        "outputId": "c4cffe7b-e14a-4cd9-d8e4-c2a081229034"
      },
      "source": [
        "data = pd.read_csv('BAJAJFINSV.csv')\n",
        "data"
      ],
      "execution_count": 109,
      "outputs": [
        {
          "output_type": "execute_result",
          "data": {
            "text/html": [
              "<div>\n",
              "<style scoped>\n",
              "    .dataframe tbody tr th:only-of-type {\n",
              "        vertical-align: middle;\n",
              "    }\n",
              "\n",
              "    .dataframe tbody tr th {\n",
              "        vertical-align: top;\n",
              "    }\n",
              "\n",
              "    .dataframe thead th {\n",
              "        text-align: right;\n",
              "    }\n",
              "</style>\n",
              "<table border=\"1\" class=\"dataframe\">\n",
              "  <thead>\n",
              "    <tr style=\"text-align: right;\">\n",
              "      <th></th>\n",
              "      <th>Date</th>\n",
              "      <th>Symbol</th>\n",
              "      <th>Series</th>\n",
              "      <th>Prev Close</th>\n",
              "      <th>Open</th>\n",
              "      <th>High</th>\n",
              "      <th>Low</th>\n",
              "      <th>Last</th>\n",
              "      <th>Close</th>\n",
              "      <th>VWAP</th>\n",
              "      <th>Volume</th>\n",
              "      <th>Turnover</th>\n",
              "      <th>Trades</th>\n",
              "      <th>Deliverable Volume</th>\n",
              "      <th>%Deliverble</th>\n",
              "    </tr>\n",
              "  </thead>\n",
              "  <tbody>\n",
              "    <tr>\n",
              "      <th>0</th>\n",
              "      <td>2008-05-26</td>\n",
              "      <td>BAJAJFINSV</td>\n",
              "      <td>EQ</td>\n",
              "      <td>2101.05</td>\n",
              "      <td>600.00</td>\n",
              "      <td>619.00</td>\n",
              "      <td>501.00</td>\n",
              "      <td>505.10</td>\n",
              "      <td>509.10</td>\n",
              "      <td>548.85</td>\n",
              "      <td>3145446</td>\n",
              "      <td>1.726368e+14</td>\n",
              "      <td>NaN</td>\n",
              "      <td>908264</td>\n",
              "      <td>0.2888</td>\n",
              "    </tr>\n",
              "    <tr>\n",
              "      <th>1</th>\n",
              "      <td>2008-05-27</td>\n",
              "      <td>BAJAJFINSV</td>\n",
              "      <td>EQ</td>\n",
              "      <td>509.10</td>\n",
              "      <td>505.00</td>\n",
              "      <td>610.95</td>\n",
              "      <td>491.10</td>\n",
              "      <td>564.00</td>\n",
              "      <td>554.65</td>\n",
              "      <td>572.15</td>\n",
              "      <td>4349144</td>\n",
              "      <td>2.488370e+14</td>\n",
              "      <td>NaN</td>\n",
              "      <td>677627</td>\n",
              "      <td>0.1558</td>\n",
              "    </tr>\n",
              "    <tr>\n",
              "      <th>2</th>\n",
              "      <td>2008-05-28</td>\n",
              "      <td>BAJAJFINSV</td>\n",
              "      <td>EQ</td>\n",
              "      <td>554.65</td>\n",
              "      <td>564.00</td>\n",
              "      <td>665.60</td>\n",
              "      <td>564.00</td>\n",
              "      <td>643.00</td>\n",
              "      <td>640.95</td>\n",
              "      <td>618.37</td>\n",
              "      <td>4588759</td>\n",
              "      <td>2.837530e+14</td>\n",
              "      <td>NaN</td>\n",
              "      <td>774895</td>\n",
              "      <td>0.1689</td>\n",
              "    </tr>\n",
              "    <tr>\n",
              "      <th>3</th>\n",
              "      <td>2008-05-29</td>\n",
              "      <td>BAJAJFINSV</td>\n",
              "      <td>EQ</td>\n",
              "      <td>640.95</td>\n",
              "      <td>656.65</td>\n",
              "      <td>703.00</td>\n",
              "      <td>608.00</td>\n",
              "      <td>634.50</td>\n",
              "      <td>632.40</td>\n",
              "      <td>659.60</td>\n",
              "      <td>4522302</td>\n",
              "      <td>2.982921e+14</td>\n",
              "      <td>NaN</td>\n",
              "      <td>1006161</td>\n",
              "      <td>0.2225</td>\n",
              "    </tr>\n",
              "    <tr>\n",
              "      <th>4</th>\n",
              "      <td>2008-05-30</td>\n",
              "      <td>BAJAJFINSV</td>\n",
              "      <td>EQ</td>\n",
              "      <td>632.40</td>\n",
              "      <td>642.40</td>\n",
              "      <td>668.00</td>\n",
              "      <td>588.30</td>\n",
              "      <td>647.00</td>\n",
              "      <td>644.00</td>\n",
              "      <td>636.41</td>\n",
              "      <td>3057669</td>\n",
              "      <td>1.945929e+14</td>\n",
              "      <td>NaN</td>\n",
              "      <td>462832</td>\n",
              "      <td>0.1514</td>\n",
              "    </tr>\n",
              "    <tr>\n",
              "      <th>...</th>\n",
              "      <td>...</td>\n",
              "      <td>...</td>\n",
              "      <td>...</td>\n",
              "      <td>...</td>\n",
              "      <td>...</td>\n",
              "      <td>...</td>\n",
              "      <td>...</td>\n",
              "      <td>...</td>\n",
              "      <td>...</td>\n",
              "      <td>...</td>\n",
              "      <td>...</td>\n",
              "      <td>...</td>\n",
              "      <td>...</td>\n",
              "      <td>...</td>\n",
              "      <td>...</td>\n",
              "    </tr>\n",
              "    <tr>\n",
              "      <th>3196</th>\n",
              "      <td>2021-04-26</td>\n",
              "      <td>BAJAJFINSV</td>\n",
              "      <td>EQ</td>\n",
              "      <td>9916.65</td>\n",
              "      <td>9992.00</td>\n",
              "      <td>10125.00</td>\n",
              "      <td>9902.20</td>\n",
              "      <td>10000.85</td>\n",
              "      <td>10001.75</td>\n",
              "      <td>9995.72</td>\n",
              "      <td>419596</td>\n",
              "      <td>4.194163e+14</td>\n",
              "      <td>45113.0</td>\n",
              "      <td>77816</td>\n",
              "      <td>0.1855</td>\n",
              "    </tr>\n",
              "    <tr>\n",
              "      <th>3197</th>\n",
              "      <td>2021-04-27</td>\n",
              "      <td>BAJAJFINSV</td>\n",
              "      <td>EQ</td>\n",
              "      <td>10001.75</td>\n",
              "      <td>10000.00</td>\n",
              "      <td>10133.00</td>\n",
              "      <td>9964.70</td>\n",
              "      <td>10133.00</td>\n",
              "      <td>10091.35</td>\n",
              "      <td>10036.76</td>\n",
              "      <td>342847</td>\n",
              "      <td>3.441072e+14</td>\n",
              "      <td>40414.0</td>\n",
              "      <td>77723</td>\n",
              "      <td>0.2267</td>\n",
              "    </tr>\n",
              "    <tr>\n",
              "      <th>3198</th>\n",
              "      <td>2021-04-28</td>\n",
              "      <td>BAJAJFINSV</td>\n",
              "      <td>EQ</td>\n",
              "      <td>10091.35</td>\n",
              "      <td>10200.00</td>\n",
              "      <td>10615.95</td>\n",
              "      <td>10151.15</td>\n",
              "      <td>10480.00</td>\n",
              "      <td>10489.30</td>\n",
              "      <td>10445.96</td>\n",
              "      <td>1113881</td>\n",
              "      <td>1.163556e+15</td>\n",
              "      <td>126354.0</td>\n",
              "      <td>133587</td>\n",
              "      <td>0.1199</td>\n",
              "    </tr>\n",
              "    <tr>\n",
              "      <th>3199</th>\n",
              "      <td>2021-04-29</td>\n",
              "      <td>BAJAJFINSV</td>\n",
              "      <td>EQ</td>\n",
              "      <td>10489.30</td>\n",
              "      <td>10540.00</td>\n",
              "      <td>11300.00</td>\n",
              "      <td>10520.00</td>\n",
              "      <td>11175.45</td>\n",
              "      <td>11176.55</td>\n",
              "      <td>10980.40</td>\n",
              "      <td>1696498</td>\n",
              "      <td>1.862822e+15</td>\n",
              "      <td>165425.0</td>\n",
              "      <td>195324</td>\n",
              "      <td>0.1151</td>\n",
              "    </tr>\n",
              "    <tr>\n",
              "      <th>3200</th>\n",
              "      <td>2021-04-30</td>\n",
              "      <td>BAJAJFINSV</td>\n",
              "      <td>EQ</td>\n",
              "      <td>11176.55</td>\n",
              "      <td>11000.00</td>\n",
              "      <td>11225.00</td>\n",
              "      <td>10868.70</td>\n",
              "      <td>11021.00</td>\n",
              "      <td>11041.65</td>\n",
              "      <td>11081.78</td>\n",
              "      <td>835355</td>\n",
              "      <td>9.257223e+14</td>\n",
              "      <td>85986.0</td>\n",
              "      <td>129995</td>\n",
              "      <td>0.1556</td>\n",
              "    </tr>\n",
              "  </tbody>\n",
              "</table>\n",
              "<p>3201 rows × 15 columns</p>\n",
              "</div>"
            ],
            "text/plain": [
              "            Date      Symbol Series  ...    Trades  Deliverable Volume  %Deliverble\n",
              "0     2008-05-26  BAJAJFINSV     EQ  ...       NaN              908264       0.2888\n",
              "1     2008-05-27  BAJAJFINSV     EQ  ...       NaN              677627       0.1558\n",
              "2     2008-05-28  BAJAJFINSV     EQ  ...       NaN              774895       0.1689\n",
              "3     2008-05-29  BAJAJFINSV     EQ  ...       NaN             1006161       0.2225\n",
              "4     2008-05-30  BAJAJFINSV     EQ  ...       NaN              462832       0.1514\n",
              "...          ...         ...    ...  ...       ...                 ...          ...\n",
              "3196  2021-04-26  BAJAJFINSV     EQ  ...   45113.0               77816       0.1855\n",
              "3197  2021-04-27  BAJAJFINSV     EQ  ...   40414.0               77723       0.2267\n",
              "3198  2021-04-28  BAJAJFINSV     EQ  ...  126354.0              133587       0.1199\n",
              "3199  2021-04-29  BAJAJFINSV     EQ  ...  165425.0              195324       0.1151\n",
              "3200  2021-04-30  BAJAJFINSV     EQ  ...   85986.0              129995       0.1556\n",
              "\n",
              "[3201 rows x 15 columns]"
            ]
          },
          "metadata": {
            "tags": []
          },
          "execution_count": 109
        }
      ]
    },
    {
      "cell_type": "code",
      "metadata": {
        "colab": {
          "base_uri": "https://localhost:8080/",
          "height": 417
        },
        "id": "gP2aT4N2dh5S",
        "outputId": "b8651bab-fc23-4a57-9bcb-b4145dadcfa1"
      },
      "source": [
        "data = data [['Date','Prev Close', 'Open', 'High', 'Low', 'Close']]\n",
        "data"
      ],
      "execution_count": 110,
      "outputs": [
        {
          "output_type": "execute_result",
          "data": {
            "text/html": [
              "<div>\n",
              "<style scoped>\n",
              "    .dataframe tbody tr th:only-of-type {\n",
              "        vertical-align: middle;\n",
              "    }\n",
              "\n",
              "    .dataframe tbody tr th {\n",
              "        vertical-align: top;\n",
              "    }\n",
              "\n",
              "    .dataframe thead th {\n",
              "        text-align: right;\n",
              "    }\n",
              "</style>\n",
              "<table border=\"1\" class=\"dataframe\">\n",
              "  <thead>\n",
              "    <tr style=\"text-align: right;\">\n",
              "      <th></th>\n",
              "      <th>Date</th>\n",
              "      <th>Prev Close</th>\n",
              "      <th>Open</th>\n",
              "      <th>High</th>\n",
              "      <th>Low</th>\n",
              "      <th>Close</th>\n",
              "    </tr>\n",
              "  </thead>\n",
              "  <tbody>\n",
              "    <tr>\n",
              "      <th>0</th>\n",
              "      <td>2008-05-26</td>\n",
              "      <td>2101.05</td>\n",
              "      <td>600.00</td>\n",
              "      <td>619.00</td>\n",
              "      <td>501.00</td>\n",
              "      <td>509.10</td>\n",
              "    </tr>\n",
              "    <tr>\n",
              "      <th>1</th>\n",
              "      <td>2008-05-27</td>\n",
              "      <td>509.10</td>\n",
              "      <td>505.00</td>\n",
              "      <td>610.95</td>\n",
              "      <td>491.10</td>\n",
              "      <td>554.65</td>\n",
              "    </tr>\n",
              "    <tr>\n",
              "      <th>2</th>\n",
              "      <td>2008-05-28</td>\n",
              "      <td>554.65</td>\n",
              "      <td>564.00</td>\n",
              "      <td>665.60</td>\n",
              "      <td>564.00</td>\n",
              "      <td>640.95</td>\n",
              "    </tr>\n",
              "    <tr>\n",
              "      <th>3</th>\n",
              "      <td>2008-05-29</td>\n",
              "      <td>640.95</td>\n",
              "      <td>656.65</td>\n",
              "      <td>703.00</td>\n",
              "      <td>608.00</td>\n",
              "      <td>632.40</td>\n",
              "    </tr>\n",
              "    <tr>\n",
              "      <th>4</th>\n",
              "      <td>2008-05-30</td>\n",
              "      <td>632.40</td>\n",
              "      <td>642.40</td>\n",
              "      <td>668.00</td>\n",
              "      <td>588.30</td>\n",
              "      <td>644.00</td>\n",
              "    </tr>\n",
              "    <tr>\n",
              "      <th>...</th>\n",
              "      <td>...</td>\n",
              "      <td>...</td>\n",
              "      <td>...</td>\n",
              "      <td>...</td>\n",
              "      <td>...</td>\n",
              "      <td>...</td>\n",
              "    </tr>\n",
              "    <tr>\n",
              "      <th>3196</th>\n",
              "      <td>2021-04-26</td>\n",
              "      <td>9916.65</td>\n",
              "      <td>9992.00</td>\n",
              "      <td>10125.00</td>\n",
              "      <td>9902.20</td>\n",
              "      <td>10001.75</td>\n",
              "    </tr>\n",
              "    <tr>\n",
              "      <th>3197</th>\n",
              "      <td>2021-04-27</td>\n",
              "      <td>10001.75</td>\n",
              "      <td>10000.00</td>\n",
              "      <td>10133.00</td>\n",
              "      <td>9964.70</td>\n",
              "      <td>10091.35</td>\n",
              "    </tr>\n",
              "    <tr>\n",
              "      <th>3198</th>\n",
              "      <td>2021-04-28</td>\n",
              "      <td>10091.35</td>\n",
              "      <td>10200.00</td>\n",
              "      <td>10615.95</td>\n",
              "      <td>10151.15</td>\n",
              "      <td>10489.30</td>\n",
              "    </tr>\n",
              "    <tr>\n",
              "      <th>3199</th>\n",
              "      <td>2021-04-29</td>\n",
              "      <td>10489.30</td>\n",
              "      <td>10540.00</td>\n",
              "      <td>11300.00</td>\n",
              "      <td>10520.00</td>\n",
              "      <td>11176.55</td>\n",
              "    </tr>\n",
              "    <tr>\n",
              "      <th>3200</th>\n",
              "      <td>2021-04-30</td>\n",
              "      <td>11176.55</td>\n",
              "      <td>11000.00</td>\n",
              "      <td>11225.00</td>\n",
              "      <td>10868.70</td>\n",
              "      <td>11041.65</td>\n",
              "    </tr>\n",
              "  </tbody>\n",
              "</table>\n",
              "<p>3201 rows × 6 columns</p>\n",
              "</div>"
            ],
            "text/plain": [
              "            Date  Prev Close      Open      High       Low     Close\n",
              "0     2008-05-26     2101.05    600.00    619.00    501.00    509.10\n",
              "1     2008-05-27      509.10    505.00    610.95    491.10    554.65\n",
              "2     2008-05-28      554.65    564.00    665.60    564.00    640.95\n",
              "3     2008-05-29      640.95    656.65    703.00    608.00    632.40\n",
              "4     2008-05-30      632.40    642.40    668.00    588.30    644.00\n",
              "...          ...         ...       ...       ...       ...       ...\n",
              "3196  2021-04-26     9916.65   9992.00  10125.00   9902.20  10001.75\n",
              "3197  2021-04-27    10001.75  10000.00  10133.00   9964.70  10091.35\n",
              "3198  2021-04-28    10091.35  10200.00  10615.95  10151.15  10489.30\n",
              "3199  2021-04-29    10489.30  10540.00  11300.00  10520.00  11176.55\n",
              "3200  2021-04-30    11176.55  11000.00  11225.00  10868.70  11041.65\n",
              "\n",
              "[3201 rows x 6 columns]"
            ]
          },
          "metadata": {
            "tags": []
          },
          "execution_count": 110
        }
      ]
    },
    {
      "cell_type": "code",
      "metadata": {
        "id": "FLRfxBm8RmSF"
      },
      "source": [
        "stock_open = data['Open']\n",
        "stock_high = data['High']\n",
        "stock_low = data['Low']\n",
        "stock_close = data['Close']"
      ],
      "execution_count": 111,
      "outputs": []
    },
    {
      "cell_type": "markdown",
      "metadata": {
        "id": "MWqxMBu6zIWU"
      },
      "source": [
        "#1. Feature Engineering"
      ]
    },
    {
      "cell_type": "code",
      "metadata": {
        "colab": {
          "base_uri": "https://localhost:8080/",
          "height": 1000
        },
        "id": "2Z_NHLf3UE3D",
        "outputId": "676b726a-1be4-4b88-ee2b-e95881a41f22"
      },
      "source": [
        "#change in price for a particular day\n",
        "change_between_close = data['Close'] - data['Prev Close']\n",
        "data['change_between_close'] = change_between_close\n",
        "data['change_between_close']\n",
        "\n",
        "high_minus_close = data['High'] - data['Close']\n",
        "data['high_minus_close'] = high_minus_close\n",
        "\n",
        "low_minus_close = data['Low'] - data['Close']\n",
        "data['low_minus_close'] = low_minus_close\n",
        "\n",
        "high_minus_open = data['High'] - data['Open']\n",
        "data['high_minus_open'] = high_minus_open\n",
        "\n",
        "low_minus_open = data['Low'] - data['Open']\n",
        "data['low_minus_open'] = low_minus_open\n",
        " \n",
        "high_minus_low = data['High'] - data['Low']\n",
        "data['high_minus_low'] = high_minus_low\n",
        "\n",
        "data"
      ],
      "execution_count": 112,
      "outputs": [
        {
          "output_type": "stream",
          "text": [
            "/usr/local/lib/python3.7/dist-packages/ipykernel_launcher.py:3: SettingWithCopyWarning: \n",
            "A value is trying to be set on a copy of a slice from a DataFrame.\n",
            "Try using .loc[row_indexer,col_indexer] = value instead\n",
            "\n",
            "See the caveats in the documentation: https://pandas.pydata.org/pandas-docs/stable/user_guide/indexing.html#returning-a-view-versus-a-copy\n",
            "  This is separate from the ipykernel package so we can avoid doing imports until\n",
            "/usr/local/lib/python3.7/dist-packages/ipykernel_launcher.py:7: SettingWithCopyWarning: \n",
            "A value is trying to be set on a copy of a slice from a DataFrame.\n",
            "Try using .loc[row_indexer,col_indexer] = value instead\n",
            "\n",
            "See the caveats in the documentation: https://pandas.pydata.org/pandas-docs/stable/user_guide/indexing.html#returning-a-view-versus-a-copy\n",
            "  import sys\n",
            "/usr/local/lib/python3.7/dist-packages/ipykernel_launcher.py:10: SettingWithCopyWarning: \n",
            "A value is trying to be set on a copy of a slice from a DataFrame.\n",
            "Try using .loc[row_indexer,col_indexer] = value instead\n",
            "\n",
            "See the caveats in the documentation: https://pandas.pydata.org/pandas-docs/stable/user_guide/indexing.html#returning-a-view-versus-a-copy\n",
            "  # Remove the CWD from sys.path while we load stuff.\n",
            "/usr/local/lib/python3.7/dist-packages/ipykernel_launcher.py:13: SettingWithCopyWarning: \n",
            "A value is trying to be set on a copy of a slice from a DataFrame.\n",
            "Try using .loc[row_indexer,col_indexer] = value instead\n",
            "\n",
            "See the caveats in the documentation: https://pandas.pydata.org/pandas-docs/stable/user_guide/indexing.html#returning-a-view-versus-a-copy\n",
            "  del sys.path[0]\n",
            "/usr/local/lib/python3.7/dist-packages/ipykernel_launcher.py:16: SettingWithCopyWarning: \n",
            "A value is trying to be set on a copy of a slice from a DataFrame.\n",
            "Try using .loc[row_indexer,col_indexer] = value instead\n",
            "\n",
            "See the caveats in the documentation: https://pandas.pydata.org/pandas-docs/stable/user_guide/indexing.html#returning-a-view-versus-a-copy\n",
            "  app.launch_new_instance()\n",
            "/usr/local/lib/python3.7/dist-packages/ipykernel_launcher.py:19: SettingWithCopyWarning: \n",
            "A value is trying to be set on a copy of a slice from a DataFrame.\n",
            "Try using .loc[row_indexer,col_indexer] = value instead\n",
            "\n",
            "See the caveats in the documentation: https://pandas.pydata.org/pandas-docs/stable/user_guide/indexing.html#returning-a-view-versus-a-copy\n"
          ],
          "name": "stderr"
        },
        {
          "output_type": "execute_result",
          "data": {
            "text/html": [
              "<div>\n",
              "<style scoped>\n",
              "    .dataframe tbody tr th:only-of-type {\n",
              "        vertical-align: middle;\n",
              "    }\n",
              "\n",
              "    .dataframe tbody tr th {\n",
              "        vertical-align: top;\n",
              "    }\n",
              "\n",
              "    .dataframe thead th {\n",
              "        text-align: right;\n",
              "    }\n",
              "</style>\n",
              "<table border=\"1\" class=\"dataframe\">\n",
              "  <thead>\n",
              "    <tr style=\"text-align: right;\">\n",
              "      <th></th>\n",
              "      <th>Date</th>\n",
              "      <th>Prev Close</th>\n",
              "      <th>Open</th>\n",
              "      <th>High</th>\n",
              "      <th>Low</th>\n",
              "      <th>Close</th>\n",
              "      <th>change_between_close</th>\n",
              "      <th>high_minus_close</th>\n",
              "      <th>low_minus_close</th>\n",
              "      <th>high_minus_open</th>\n",
              "      <th>low_minus_open</th>\n",
              "      <th>high_minus_low</th>\n",
              "    </tr>\n",
              "  </thead>\n",
              "  <tbody>\n",
              "    <tr>\n",
              "      <th>0</th>\n",
              "      <td>2008-05-26</td>\n",
              "      <td>2101.05</td>\n",
              "      <td>600.00</td>\n",
              "      <td>619.00</td>\n",
              "      <td>501.00</td>\n",
              "      <td>509.10</td>\n",
              "      <td>-1591.95</td>\n",
              "      <td>109.90</td>\n",
              "      <td>-8.10</td>\n",
              "      <td>19.00</td>\n",
              "      <td>-99.00</td>\n",
              "      <td>118.00</td>\n",
              "    </tr>\n",
              "    <tr>\n",
              "      <th>1</th>\n",
              "      <td>2008-05-27</td>\n",
              "      <td>509.10</td>\n",
              "      <td>505.00</td>\n",
              "      <td>610.95</td>\n",
              "      <td>491.10</td>\n",
              "      <td>554.65</td>\n",
              "      <td>45.55</td>\n",
              "      <td>56.30</td>\n",
              "      <td>-63.55</td>\n",
              "      <td>105.95</td>\n",
              "      <td>-13.90</td>\n",
              "      <td>119.85</td>\n",
              "    </tr>\n",
              "    <tr>\n",
              "      <th>2</th>\n",
              "      <td>2008-05-28</td>\n",
              "      <td>554.65</td>\n",
              "      <td>564.00</td>\n",
              "      <td>665.60</td>\n",
              "      <td>564.00</td>\n",
              "      <td>640.95</td>\n",
              "      <td>86.30</td>\n",
              "      <td>24.65</td>\n",
              "      <td>-76.95</td>\n",
              "      <td>101.60</td>\n",
              "      <td>0.00</td>\n",
              "      <td>101.60</td>\n",
              "    </tr>\n",
              "    <tr>\n",
              "      <th>3</th>\n",
              "      <td>2008-05-29</td>\n",
              "      <td>640.95</td>\n",
              "      <td>656.65</td>\n",
              "      <td>703.00</td>\n",
              "      <td>608.00</td>\n",
              "      <td>632.40</td>\n",
              "      <td>-8.55</td>\n",
              "      <td>70.60</td>\n",
              "      <td>-24.40</td>\n",
              "      <td>46.35</td>\n",
              "      <td>-48.65</td>\n",
              "      <td>95.00</td>\n",
              "    </tr>\n",
              "    <tr>\n",
              "      <th>4</th>\n",
              "      <td>2008-05-30</td>\n",
              "      <td>632.40</td>\n",
              "      <td>642.40</td>\n",
              "      <td>668.00</td>\n",
              "      <td>588.30</td>\n",
              "      <td>644.00</td>\n",
              "      <td>11.60</td>\n",
              "      <td>24.00</td>\n",
              "      <td>-55.70</td>\n",
              "      <td>25.60</td>\n",
              "      <td>-54.10</td>\n",
              "      <td>79.70</td>\n",
              "    </tr>\n",
              "    <tr>\n",
              "      <th>...</th>\n",
              "      <td>...</td>\n",
              "      <td>...</td>\n",
              "      <td>...</td>\n",
              "      <td>...</td>\n",
              "      <td>...</td>\n",
              "      <td>...</td>\n",
              "      <td>...</td>\n",
              "      <td>...</td>\n",
              "      <td>...</td>\n",
              "      <td>...</td>\n",
              "      <td>...</td>\n",
              "      <td>...</td>\n",
              "    </tr>\n",
              "    <tr>\n",
              "      <th>3196</th>\n",
              "      <td>2021-04-26</td>\n",
              "      <td>9916.65</td>\n",
              "      <td>9992.00</td>\n",
              "      <td>10125.00</td>\n",
              "      <td>9902.20</td>\n",
              "      <td>10001.75</td>\n",
              "      <td>85.10</td>\n",
              "      <td>123.25</td>\n",
              "      <td>-99.55</td>\n",
              "      <td>133.00</td>\n",
              "      <td>-89.80</td>\n",
              "      <td>222.80</td>\n",
              "    </tr>\n",
              "    <tr>\n",
              "      <th>3197</th>\n",
              "      <td>2021-04-27</td>\n",
              "      <td>10001.75</td>\n",
              "      <td>10000.00</td>\n",
              "      <td>10133.00</td>\n",
              "      <td>9964.70</td>\n",
              "      <td>10091.35</td>\n",
              "      <td>89.60</td>\n",
              "      <td>41.65</td>\n",
              "      <td>-126.65</td>\n",
              "      <td>133.00</td>\n",
              "      <td>-35.30</td>\n",
              "      <td>168.30</td>\n",
              "    </tr>\n",
              "    <tr>\n",
              "      <th>3198</th>\n",
              "      <td>2021-04-28</td>\n",
              "      <td>10091.35</td>\n",
              "      <td>10200.00</td>\n",
              "      <td>10615.95</td>\n",
              "      <td>10151.15</td>\n",
              "      <td>10489.30</td>\n",
              "      <td>397.95</td>\n",
              "      <td>126.65</td>\n",
              "      <td>-338.15</td>\n",
              "      <td>415.95</td>\n",
              "      <td>-48.85</td>\n",
              "      <td>464.80</td>\n",
              "    </tr>\n",
              "    <tr>\n",
              "      <th>3199</th>\n",
              "      <td>2021-04-29</td>\n",
              "      <td>10489.30</td>\n",
              "      <td>10540.00</td>\n",
              "      <td>11300.00</td>\n",
              "      <td>10520.00</td>\n",
              "      <td>11176.55</td>\n",
              "      <td>687.25</td>\n",
              "      <td>123.45</td>\n",
              "      <td>-656.55</td>\n",
              "      <td>760.00</td>\n",
              "      <td>-20.00</td>\n",
              "      <td>780.00</td>\n",
              "    </tr>\n",
              "    <tr>\n",
              "      <th>3200</th>\n",
              "      <td>2021-04-30</td>\n",
              "      <td>11176.55</td>\n",
              "      <td>11000.00</td>\n",
              "      <td>11225.00</td>\n",
              "      <td>10868.70</td>\n",
              "      <td>11041.65</td>\n",
              "      <td>-134.90</td>\n",
              "      <td>183.35</td>\n",
              "      <td>-172.95</td>\n",
              "      <td>225.00</td>\n",
              "      <td>-131.30</td>\n",
              "      <td>356.30</td>\n",
              "    </tr>\n",
              "  </tbody>\n",
              "</table>\n",
              "<p>3201 rows × 12 columns</p>\n",
              "</div>"
            ],
            "text/plain": [
              "            Date  Prev Close  ...  low_minus_open  high_minus_low\n",
              "0     2008-05-26     2101.05  ...          -99.00          118.00\n",
              "1     2008-05-27      509.10  ...          -13.90          119.85\n",
              "2     2008-05-28      554.65  ...            0.00          101.60\n",
              "3     2008-05-29      640.95  ...          -48.65           95.00\n",
              "4     2008-05-30      632.40  ...          -54.10           79.70\n",
              "...          ...         ...  ...             ...             ...\n",
              "3196  2021-04-26     9916.65  ...          -89.80          222.80\n",
              "3197  2021-04-27    10001.75  ...          -35.30          168.30\n",
              "3198  2021-04-28    10091.35  ...          -48.85          464.80\n",
              "3199  2021-04-29    10489.30  ...          -20.00          780.00\n",
              "3200  2021-04-30    11176.55  ...         -131.30          356.30\n",
              "\n",
              "[3201 rows x 12 columns]"
            ]
          },
          "metadata": {
            "tags": []
          },
          "execution_count": 112
        }
      ]
    },
    {
      "cell_type": "markdown",
      "metadata": {
        "id": "BDMq0sWrzuaa"
      },
      "source": [
        "# Train Test Split"
      ]
    },
    {
      "cell_type": "markdown",
      "metadata": {
        "id": "_7dxj8RLYkru"
      },
      "source": [
        "Getting Training Data\n"
      ]
    },
    {
      "cell_type": "code",
      "metadata": {
        "colab": {
          "base_uri": "https://localhost:8080/"
        },
        "id": "OCuZ7xcnYjGv",
        "outputId": "88cca918-9605-4830-e437-bb8a000e5d60"
      },
      "source": [
        "training_size = math.ceil(0.66 * data.shape[0])\n",
        "training_size"
      ],
      "execution_count": 113,
      "outputs": [
        {
          "output_type": "execute_result",
          "data": {
            "text/plain": [
              "2113"
            ]
          },
          "metadata": {
            "tags": []
          },
          "execution_count": 113
        }
      ]
    },
    {
      "cell_type": "markdown",
      "metadata": {
        "id": "HqnCT93vzkXv"
      },
      "source": [
        "GettiTesting Data "
      ]
    },
    {
      "cell_type": "code",
      "metadata": {
        "colab": {
          "base_uri": "https://localhost:8080/"
        },
        "id": "NGn9Ofc_Y1qZ",
        "outputId": "879457f2-705c-4a72-bc83-4e3c13c8e2e3"
      },
      "source": [
        "test_size = data.shape[0] - training_size\n",
        "test_size\n"
      ],
      "execution_count": 114,
      "outputs": [
        {
          "output_type": "execute_result",
          "data": {
            "text/plain": [
              "1088"
            ]
          },
          "metadata": {
            "tags": []
          },
          "execution_count": 114
        }
      ]
    },
    {
      "cell_type": "code",
      "metadata": {
        "colab": {
          "base_uri": "https://localhost:8080/",
          "height": 454
        },
        "id": "0knXQbACY6uQ",
        "outputId": "66bb83d1-6f09-4ea0-d19a-4a5275a6d3ba"
      },
      "source": [
        "train_data = data[:training_size]\n",
        "train_data = train_data.drop(['Date'], axis = 1)\n",
        "train_data"
      ],
      "execution_count": 115,
      "outputs": [
        {
          "output_type": "execute_result",
          "data": {
            "text/html": [
              "<div>\n",
              "<style scoped>\n",
              "    .dataframe tbody tr th:only-of-type {\n",
              "        vertical-align: middle;\n",
              "    }\n",
              "\n",
              "    .dataframe tbody tr th {\n",
              "        vertical-align: top;\n",
              "    }\n",
              "\n",
              "    .dataframe thead th {\n",
              "        text-align: right;\n",
              "    }\n",
              "</style>\n",
              "<table border=\"1\" class=\"dataframe\">\n",
              "  <thead>\n",
              "    <tr style=\"text-align: right;\">\n",
              "      <th></th>\n",
              "      <th>Prev Close</th>\n",
              "      <th>Open</th>\n",
              "      <th>High</th>\n",
              "      <th>Low</th>\n",
              "      <th>Close</th>\n",
              "      <th>change_between_close</th>\n",
              "      <th>high_minus_close</th>\n",
              "      <th>low_minus_close</th>\n",
              "      <th>high_minus_open</th>\n",
              "      <th>low_minus_open</th>\n",
              "      <th>high_minus_low</th>\n",
              "    </tr>\n",
              "  </thead>\n",
              "  <tbody>\n",
              "    <tr>\n",
              "      <th>0</th>\n",
              "      <td>2101.05</td>\n",
              "      <td>600.00</td>\n",
              "      <td>619.00</td>\n",
              "      <td>501.00</td>\n",
              "      <td>509.10</td>\n",
              "      <td>-1591.95</td>\n",
              "      <td>109.90</td>\n",
              "      <td>-8.10</td>\n",
              "      <td>19.00</td>\n",
              "      <td>-99.00</td>\n",
              "      <td>118.00</td>\n",
              "    </tr>\n",
              "    <tr>\n",
              "      <th>1</th>\n",
              "      <td>509.10</td>\n",
              "      <td>505.00</td>\n",
              "      <td>610.95</td>\n",
              "      <td>491.10</td>\n",
              "      <td>554.65</td>\n",
              "      <td>45.55</td>\n",
              "      <td>56.30</td>\n",
              "      <td>-63.55</td>\n",
              "      <td>105.95</td>\n",
              "      <td>-13.90</td>\n",
              "      <td>119.85</td>\n",
              "    </tr>\n",
              "    <tr>\n",
              "      <th>2</th>\n",
              "      <td>554.65</td>\n",
              "      <td>564.00</td>\n",
              "      <td>665.60</td>\n",
              "      <td>564.00</td>\n",
              "      <td>640.95</td>\n",
              "      <td>86.30</td>\n",
              "      <td>24.65</td>\n",
              "      <td>-76.95</td>\n",
              "      <td>101.60</td>\n",
              "      <td>0.00</td>\n",
              "      <td>101.60</td>\n",
              "    </tr>\n",
              "    <tr>\n",
              "      <th>3</th>\n",
              "      <td>640.95</td>\n",
              "      <td>656.65</td>\n",
              "      <td>703.00</td>\n",
              "      <td>608.00</td>\n",
              "      <td>632.40</td>\n",
              "      <td>-8.55</td>\n",
              "      <td>70.60</td>\n",
              "      <td>-24.40</td>\n",
              "      <td>46.35</td>\n",
              "      <td>-48.65</td>\n",
              "      <td>95.00</td>\n",
              "    </tr>\n",
              "    <tr>\n",
              "      <th>4</th>\n",
              "      <td>632.40</td>\n",
              "      <td>642.40</td>\n",
              "      <td>668.00</td>\n",
              "      <td>588.30</td>\n",
              "      <td>644.00</td>\n",
              "      <td>11.60</td>\n",
              "      <td>24.00</td>\n",
              "      <td>-55.70</td>\n",
              "      <td>25.60</td>\n",
              "      <td>-54.10</td>\n",
              "      <td>79.70</td>\n",
              "    </tr>\n",
              "    <tr>\n",
              "      <th>...</th>\n",
              "      <td>...</td>\n",
              "      <td>...</td>\n",
              "      <td>...</td>\n",
              "      <td>...</td>\n",
              "      <td>...</td>\n",
              "      <td>...</td>\n",
              "      <td>...</td>\n",
              "      <td>...</td>\n",
              "      <td>...</td>\n",
              "      <td>...</td>\n",
              "      <td>...</td>\n",
              "    </tr>\n",
              "    <tr>\n",
              "      <th>2108</th>\n",
              "      <td>2990.00</td>\n",
              "      <td>3009.00</td>\n",
              "      <td>3019.00</td>\n",
              "      <td>2930.25</td>\n",
              "      <td>2939.30</td>\n",
              "      <td>-50.70</td>\n",
              "      <td>79.70</td>\n",
              "      <td>-9.05</td>\n",
              "      <td>10.00</td>\n",
              "      <td>-78.75</td>\n",
              "      <td>88.75</td>\n",
              "    </tr>\n",
              "    <tr>\n",
              "      <th>2109</th>\n",
              "      <td>2939.30</td>\n",
              "      <td>2935.00</td>\n",
              "      <td>2999.00</td>\n",
              "      <td>2923.05</td>\n",
              "      <td>2977.65</td>\n",
              "      <td>38.35</td>\n",
              "      <td>21.35</td>\n",
              "      <td>-54.60</td>\n",
              "      <td>64.00</td>\n",
              "      <td>-11.95</td>\n",
              "      <td>75.95</td>\n",
              "    </tr>\n",
              "    <tr>\n",
              "      <th>2110</th>\n",
              "      <td>2977.65</td>\n",
              "      <td>2990.00</td>\n",
              "      <td>3095.00</td>\n",
              "      <td>2980.00</td>\n",
              "      <td>3031.65</td>\n",
              "      <td>54.00</td>\n",
              "      <td>63.35</td>\n",
              "      <td>-51.65</td>\n",
              "      <td>105.00</td>\n",
              "      <td>-10.00</td>\n",
              "      <td>115.00</td>\n",
              "    </tr>\n",
              "    <tr>\n",
              "      <th>2111</th>\n",
              "      <td>3031.65</td>\n",
              "      <td>3029.00</td>\n",
              "      <td>3044.00</td>\n",
              "      <td>2990.00</td>\n",
              "      <td>2999.00</td>\n",
              "      <td>-32.65</td>\n",
              "      <td>45.00</td>\n",
              "      <td>-9.00</td>\n",
              "      <td>15.00</td>\n",
              "      <td>-39.00</td>\n",
              "      <td>54.00</td>\n",
              "    </tr>\n",
              "    <tr>\n",
              "      <th>2112</th>\n",
              "      <td>2999.00</td>\n",
              "      <td>3020.00</td>\n",
              "      <td>3020.00</td>\n",
              "      <td>2946.10</td>\n",
              "      <td>2957.20</td>\n",
              "      <td>-41.80</td>\n",
              "      <td>62.80</td>\n",
              "      <td>-11.10</td>\n",
              "      <td>0.00</td>\n",
              "      <td>-73.90</td>\n",
              "      <td>73.90</td>\n",
              "    </tr>\n",
              "  </tbody>\n",
              "</table>\n",
              "<p>2113 rows × 11 columns</p>\n",
              "</div>"
            ],
            "text/plain": [
              "      Prev Close     Open  ...  low_minus_open  high_minus_low\n",
              "0        2101.05   600.00  ...          -99.00          118.00\n",
              "1         509.10   505.00  ...          -13.90          119.85\n",
              "2         554.65   564.00  ...            0.00          101.60\n",
              "3         640.95   656.65  ...          -48.65           95.00\n",
              "4         632.40   642.40  ...          -54.10           79.70\n",
              "...          ...      ...  ...             ...             ...\n",
              "2108     2990.00  3009.00  ...          -78.75           88.75\n",
              "2109     2939.30  2935.00  ...          -11.95           75.95\n",
              "2110     2977.65  2990.00  ...          -10.00          115.00\n",
              "2111     3031.65  3029.00  ...          -39.00           54.00\n",
              "2112     2999.00  3020.00  ...          -73.90           73.90\n",
              "\n",
              "[2113 rows x 11 columns]"
            ]
          },
          "metadata": {
            "tags": []
          },
          "execution_count": 115
        }
      ]
    },
    {
      "cell_type": "code",
      "metadata": {
        "colab": {
          "base_uri": "https://localhost:8080/"
        },
        "id": "iuGOnb0TZn3e",
        "outputId": "dc81eefa-5f4d-43c6-e8de-2c2ba5d9f2d2"
      },
      "source": [
        "train_data.shape\n"
      ],
      "execution_count": 116,
      "outputs": [
        {
          "output_type": "execute_result",
          "data": {
            "text/plain": [
              "(2113, 11)"
            ]
          },
          "metadata": {
            "tags": []
          },
          "execution_count": 116
        }
      ]
    },
    {
      "cell_type": "code",
      "metadata": {
        "colab": {
          "base_uri": "https://localhost:8080/"
        },
        "id": "p14KXTtJZxdB",
        "outputId": "af3335ec-a27f-4782-f635-54ab0c3c16a7"
      },
      "source": [
        "X_train = train_data[['Prev Close',\t'Open',\t'High',\t'Low',\t'change_between_close',\t'high_minus_close',\t'low_minus_close',\t'high_minus_open',\t'low_minus_open']]\n",
        "y_train = train_data[['Close']]\n",
        "\n",
        "X_train.shape, y_train.shape"
      ],
      "execution_count": 117,
      "outputs": [
        {
          "output_type": "execute_result",
          "data": {
            "text/plain": [
              "((2113, 9), (2113, 1))"
            ]
          },
          "metadata": {
            "tags": []
          },
          "execution_count": 117
        }
      ]
    },
    {
      "cell_type": "markdown",
      "metadata": {
        "id": "FQqEKH9T2Ca2"
      },
      "source": [
        "# Feature Scaling"
      ]
    },
    {
      "cell_type": "code",
      "metadata": {
        "colab": {
          "base_uri": "https://localhost:8080/"
        },
        "id": "7tGjpGE1aQNM",
        "outputId": "453c0465-7a23-4f2f-a44b-ce6c38f1a2e3"
      },
      "source": [
        "scalerX = MinMaxScaler()\n",
        "scalerY = MinMaxScaler()\n",
        "\n",
        "X_train = scalerX.fit_transform(X_train)\n",
        "y_train = scalerY.fit_transform(y_train)\n",
        "\n",
        "X_train, y_train = np.array(X_train), np.array(y_train)\n",
        "X_trainLSTM, y_trainLSTM = np.reshape(X_train, (X_train.shape[0], X_train.shape[1], 1)), np.array(y_train)\n",
        "X_trainLSTM.shape, y_trainLSTM.shape"
      ],
      "execution_count": 118,
      "outputs": [
        {
          "output_type": "execute_result",
          "data": {
            "text/plain": [
              "((2113, 9, 1), (2113, 1))"
            ]
          },
          "metadata": {
            "tags": []
          },
          "execution_count": 118
        }
      ]
    },
    {
      "cell_type": "code",
      "metadata": {
        "colab": {
          "base_uri": "https://localhost:8080/"
        },
        "id": "oSjzH16qc-pz",
        "outputId": "4edfb015-8908-4e9d-ba3b-e28a37637871"
      },
      "source": [
        "X_train.shape, y_train.shape\n"
      ],
      "execution_count": 119,
      "outputs": [
        {
          "output_type": "execute_result",
          "data": {
            "text/plain": [
              "((2113, 9), (2113, 1))"
            ]
          },
          "metadata": {
            "tags": []
          },
          "execution_count": 119
        }
      ]
    },
    {
      "cell_type": "markdown",
      "metadata": {
        "id": "mwK_wIDrdEAr"
      },
      "source": [
        "# Building Models\n"
      ]
    },
    {
      "cell_type": "markdown",
      "metadata": {
        "id": "CSPRMZRx2Ogq"
      },
      "source": [
        "##1. LSTM"
      ]
    },
    {
      "cell_type": "code",
      "metadata": {
        "colab": {
          "base_uri": "https://localhost:8080/"
        },
        "id": "wzjBfmI5c_lr",
        "outputId": "b0a1c46f-517f-4438-b963-e5f423fb5bd3"
      },
      "source": [
        "# References - https://github.com/Ethan0507/Stock-Prediction-for-Nifty-50-Stocks\n",
        "\n",
        "model = Sequential()\n",
        "\n",
        "model.add(LSTM(units=40, activation='relu', return_sequences=True, input_shape=(X_trainLSTM.shape[1], 1)))\n",
        "model.add(Dropout(rate=0.1))\n",
        "\n",
        "model.add(LSTM(units=60, activation='relu', return_sequences=True))\n",
        "model.add(Dropout(rate=0.1))\n",
        "\n",
        "model.add(LSTM(units=120, activation='relu'))\n",
        "model.add(Dropout(rate=0.2))\n",
        "\n",
        "model.add(Dense(1))"
      ],
      "execution_count": 120,
      "outputs": [
        {
          "output_type": "stream",
          "text": [
            "WARNING:tensorflow:Layer lstm_10 will not use cuDNN kernels since it doesn't meet the criteria. It will use a generic GPU kernel as fallback when running on GPU.\n",
            "WARNING:tensorflow:Layer lstm_11 will not use cuDNN kernels since it doesn't meet the criteria. It will use a generic GPU kernel as fallback when running on GPU.\n",
            "WARNING:tensorflow:Layer lstm_12 will not use cuDNN kernels since it doesn't meet the criteria. It will use a generic GPU kernel as fallback when running on GPU.\n"
          ],
          "name": "stdout"
        }
      ]
    },
    {
      "cell_type": "code",
      "metadata": {
        "colab": {
          "base_uri": "https://localhost:8080/"
        },
        "id": "cAl1jKi3dHrA",
        "outputId": "7215cd91-720f-4d4f-a02a-7f2a3bd779fa"
      },
      "source": [
        "model.summary()\n"
      ],
      "execution_count": 121,
      "outputs": [
        {
          "output_type": "stream",
          "text": [
            "Model: \"sequential_3\"\n",
            "_________________________________________________________________\n",
            "Layer (type)                 Output Shape              Param #   \n",
            "=================================================================\n",
            "lstm_10 (LSTM)               (None, 9, 40)             6720      \n",
            "_________________________________________________________________\n",
            "dropout_10 (Dropout)         (None, 9, 40)             0         \n",
            "_________________________________________________________________\n",
            "lstm_11 (LSTM)               (None, 9, 60)             24240     \n",
            "_________________________________________________________________\n",
            "dropout_11 (Dropout)         (None, 9, 60)             0         \n",
            "_________________________________________________________________\n",
            "lstm_12 (LSTM)               (None, 120)               86880     \n",
            "_________________________________________________________________\n",
            "dropout_12 (Dropout)         (None, 120)               0         \n",
            "_________________________________________________________________\n",
            "dense_3 (Dense)              (None, 1)                 121       \n",
            "=================================================================\n",
            "Total params: 117,961\n",
            "Trainable params: 117,961\n",
            "Non-trainable params: 0\n",
            "_________________________________________________________________\n"
          ],
          "name": "stdout"
        }
      ]
    },
    {
      "cell_type": "code",
      "metadata": {
        "id": "lAS1KPVFdPqd"
      },
      "source": [
        "model.compile(optimizer='adam', loss='mean_squared_error')\n"
      ],
      "execution_count": 122,
      "outputs": []
    },
    {
      "cell_type": "code",
      "metadata": {
        "colab": {
          "base_uri": "https://localhost:8080/"
        },
        "id": "j68vJUvHdTLm",
        "outputId": "a6701259-c7d0-4915-9d4d-1c193b4bba2d"
      },
      "source": [
        "model.fit(X_trainLSTM, y_trainLSTM, batch_size=128, epochs=30)\n"
      ],
      "execution_count": 123,
      "outputs": [
        {
          "output_type": "stream",
          "text": [
            "Epoch 1/30\n",
            "17/17 [==============================] - 5s 44ms/step - loss: 0.0725\n",
            "Epoch 2/30\n",
            "17/17 [==============================] - 1s 42ms/step - loss: 0.0315\n",
            "Epoch 3/30\n",
            "17/17 [==============================] - 1s 44ms/step - loss: 0.0143\n",
            "Epoch 4/30\n",
            "17/17 [==============================] - 1s 48ms/step - loss: 0.0043\n",
            "Epoch 5/30\n",
            "17/17 [==============================] - 1s 44ms/step - loss: 0.0025\n",
            "Epoch 6/30\n",
            "17/17 [==============================] - 1s 45ms/step - loss: 0.0019\n",
            "Epoch 7/30\n",
            "17/17 [==============================] - 1s 46ms/step - loss: 0.0015\n",
            "Epoch 8/30\n",
            "17/17 [==============================] - 1s 46ms/step - loss: 0.0012\n",
            "Epoch 9/30\n",
            "17/17 [==============================] - 1s 46ms/step - loss: 0.0010\n",
            "Epoch 10/30\n",
            "17/17 [==============================] - 1s 44ms/step - loss: 0.0010\n",
            "Epoch 11/30\n",
            "17/17 [==============================] - 1s 46ms/step - loss: 0.0013\n",
            "Epoch 12/30\n",
            "17/17 [==============================] - 1s 44ms/step - loss: 0.0010\n",
            "Epoch 13/30\n",
            "17/17 [==============================] - 1s 48ms/step - loss: 0.0010\n",
            "Epoch 14/30\n",
            "17/17 [==============================] - 1s 42ms/step - loss: 0.0010\n",
            "Epoch 15/30\n",
            "17/17 [==============================] - 1s 45ms/step - loss: 8.8098e-04\n",
            "Epoch 16/30\n",
            "17/17 [==============================] - 1s 45ms/step - loss: 9.2213e-04\n",
            "Epoch 17/30\n",
            "17/17 [==============================] - 1s 46ms/step - loss: 8.4911e-04\n",
            "Epoch 18/30\n",
            "17/17 [==============================] - 1s 44ms/step - loss: 8.8927e-04\n",
            "Epoch 19/30\n",
            "17/17 [==============================] - 1s 44ms/step - loss: 8.3415e-04\n",
            "Epoch 20/30\n",
            "17/17 [==============================] - 1s 44ms/step - loss: 8.3275e-04\n",
            "Epoch 21/30\n",
            "17/17 [==============================] - 1s 43ms/step - loss: 8.1177e-04\n",
            "Epoch 22/30\n",
            "17/17 [==============================] - 1s 46ms/step - loss: 9.1364e-04\n",
            "Epoch 23/30\n",
            "17/17 [==============================] - 1s 45ms/step - loss: 8.1945e-04\n",
            "Epoch 24/30\n",
            "17/17 [==============================] - 1s 45ms/step - loss: 8.0580e-04\n",
            "Epoch 25/30\n",
            "17/17 [==============================] - 1s 44ms/step - loss: 7.0457e-04\n",
            "Epoch 26/30\n",
            "17/17 [==============================] - 1s 44ms/step - loss: 9.1738e-04\n",
            "Epoch 27/30\n",
            "17/17 [==============================] - 1s 44ms/step - loss: 6.5068e-04\n",
            "Epoch 28/30\n",
            "17/17 [==============================] - 1s 47ms/step - loss: 6.7410e-04\n",
            "Epoch 29/30\n",
            "17/17 [==============================] - 1s 47ms/step - loss: 8.6552e-04\n",
            "Epoch 30/30\n",
            "17/17 [==============================] - 1s 45ms/step - loss: 6.5936e-04\n"
          ],
          "name": "stdout"
        },
        {
          "output_type": "execute_result",
          "data": {
            "text/plain": [
              "<keras.callbacks.History at 0x7fd21a1a4fd0>"
            ]
          },
          "metadata": {
            "tags": []
          },
          "execution_count": 123
        }
      ]
    },
    {
      "cell_type": "markdown",
      "metadata": {
        "id": "zH_JAmwC2cgI"
      },
      "source": [
        "##2. SVR - RBF"
      ]
    },
    {
      "cell_type": "code",
      "metadata": {
        "colab": {
          "base_uri": "https://localhost:8080/"
        },
        "id": "rm2xUTOT3Gmj",
        "outputId": "f9d72f4d-b2c1-47b9-f2ff-cf67d9ccced2"
      },
      "source": [
        "regr_rbf = SVR(kernel='rbf', gamma=0.1)\n",
        "regr_rbf.fit(X_train, y_train)"
      ],
      "execution_count": 124,
      "outputs": [
        {
          "output_type": "stream",
          "text": [
            "/usr/local/lib/python3.7/dist-packages/sklearn/utils/validation.py:760: DataConversionWarning: A column-vector y was passed when a 1d array was expected. Please change the shape of y to (n_samples, ), for example using ravel().\n",
            "  y = column_or_1d(y, warn=True)\n"
          ],
          "name": "stderr"
        },
        {
          "output_type": "execute_result",
          "data": {
            "text/plain": [
              "SVR(C=1.0, cache_size=200, coef0=0.0, degree=3, epsilon=0.1, gamma=0.1,\n",
              "    kernel='rbf', max_iter=-1, shrinking=True, tol=0.001, verbose=False)"
            ]
          },
          "metadata": {
            "tags": []
          },
          "execution_count": 124
        }
      ]
    },
    {
      "cell_type": "markdown",
      "metadata": {
        "id": "9_OvQYQx3VOX"
      },
      "source": [
        "##4. SVR - Linear"
      ]
    },
    {
      "cell_type": "code",
      "metadata": {
        "colab": {
          "base_uri": "https://localhost:8080/"
        },
        "id": "b7qOF5ud3R3n",
        "outputId": "20e12020-7a60-4575-8c73-7dafc9446969"
      },
      "source": [
        "regr_lin = SVR(kernel='linear')\n",
        "regr_lin.fit(X_train, y_train)\n"
      ],
      "execution_count": 125,
      "outputs": [
        {
          "output_type": "stream",
          "text": [
            "/usr/local/lib/python3.7/dist-packages/sklearn/utils/validation.py:760: DataConversionWarning: A column-vector y was passed when a 1d array was expected. Please change the shape of y to (n_samples, ), for example using ravel().\n",
            "  y = column_or_1d(y, warn=True)\n"
          ],
          "name": "stderr"
        },
        {
          "output_type": "execute_result",
          "data": {
            "text/plain": [
              "SVR(C=1.0, cache_size=200, coef0=0.0, degree=3, epsilon=0.1, gamma='scale',\n",
              "    kernel='linear', max_iter=-1, shrinking=True, tol=0.001, verbose=False)"
            ]
          },
          "metadata": {
            "tags": []
          },
          "execution_count": 125
        }
      ]
    },
    {
      "cell_type": "markdown",
      "metadata": {
        "id": "apESjyeg3e_r"
      },
      "source": [
        "## 5. Random Forest Regrssor"
      ]
    },
    {
      "cell_type": "code",
      "metadata": {
        "colab": {
          "base_uri": "https://localhost:8080/"
        },
        "id": "4kEk5_--3dE4",
        "outputId": "723a50dd-963f-4604-8a49-5818128375a3"
      },
      "source": [
        "regr_rfr = RandomForestRegressor(n_estimators=150, criterion='mse', oob_score=True)\n",
        "regr_rfr.fit(X_train, y_train)\n"
      ],
      "execution_count": 126,
      "outputs": [
        {
          "output_type": "stream",
          "text": [
            "/usr/local/lib/python3.7/dist-packages/ipykernel_launcher.py:2: DataConversionWarning: A column-vector y was passed when a 1d array was expected. Please change the shape of y to (n_samples,), for example using ravel().\n",
            "  \n"
          ],
          "name": "stderr"
        },
        {
          "output_type": "execute_result",
          "data": {
            "text/plain": [
              "RandomForestRegressor(bootstrap=True, ccp_alpha=0.0, criterion='mse',\n",
              "                      max_depth=None, max_features='auto', max_leaf_nodes=None,\n",
              "                      max_samples=None, min_impurity_decrease=0.0,\n",
              "                      min_impurity_split=None, min_samples_leaf=1,\n",
              "                      min_samples_split=2, min_weight_fraction_leaf=0.0,\n",
              "                      n_estimators=150, n_jobs=None, oob_score=True,\n",
              "                      random_state=None, verbose=0, warm_start=False)"
            ]
          },
          "metadata": {
            "tags": []
          },
          "execution_count": 126
        }
      ]
    },
    {
      "cell_type": "markdown",
      "metadata": {
        "id": "XDyeCkwn3xAP"
      },
      "source": [
        "## 6. Gradient Boost Regressor"
      ]
    },
    {
      "cell_type": "code",
      "metadata": {
        "colab": {
          "base_uri": "https://localhost:8080/"
        },
        "id": "c1Y5BEOtaj8O",
        "outputId": "746d7327-074e-4230-d8e1-57801be59677"
      },
      "source": [
        "regr_gbr = GradientBoostingRegressor(loss='ls', n_estimators=150, criterion='friedman_mse')\n",
        "regr_gbr.fit(X_train, y_train)"
      ],
      "execution_count": 127,
      "outputs": [
        {
          "output_type": "stream",
          "text": [
            "/usr/local/lib/python3.7/dist-packages/sklearn/ensemble/_gb.py:1454: DataConversionWarning: A column-vector y was passed when a 1d array was expected. Please change the shape of y to (n_samples, ), for example using ravel().\n",
            "  y = column_or_1d(y, warn=True)\n"
          ],
          "name": "stderr"
        },
        {
          "output_type": "execute_result",
          "data": {
            "text/plain": [
              "GradientBoostingRegressor(alpha=0.9, ccp_alpha=0.0, criterion='friedman_mse',\n",
              "                          init=None, learning_rate=0.1, loss='ls', max_depth=3,\n",
              "                          max_features=None, max_leaf_nodes=None,\n",
              "                          min_impurity_decrease=0.0, min_impurity_split=None,\n",
              "                          min_samples_leaf=1, min_samples_split=2,\n",
              "                          min_weight_fraction_leaf=0.0, n_estimators=150,\n",
              "                          n_iter_no_change=None, presort='deprecated',\n",
              "                          random_state=None, subsample=1.0, tol=0.0001,\n",
              "                          validation_fraction=0.1, verbose=0, warm_start=False)"
            ]
          },
          "metadata": {
            "tags": []
          },
          "execution_count": 127
        }
      ]
    },
    {
      "cell_type": "markdown",
      "metadata": {
        "id": "MZjx0lBXapOo"
      },
      "source": [
        "# Testing"
      ]
    },
    {
      "cell_type": "code",
      "metadata": {
        "colab": {
          "base_uri": "https://localhost:8080/"
        },
        "id": "fESSffnAaoi8",
        "outputId": "bcc570c9-0c1d-4aa2-9def-6aba2b2d7be7"
      },
      "source": [
        "test_data = data[training_size - 1:]\n",
        "\n",
        "X_test = test_data[['Prev Close',\t'Open',\t'High',\t'Low',\t'change_between_close',\t'high_minus_close',\t'low_minus_close',\t'high_minus_open',\t'low_minus_open']]\n",
        "y_test = test_data[['Close']]\n",
        "\n",
        "X_test.shape, y_test.shape"
      ],
      "execution_count": 128,
      "outputs": [
        {
          "output_type": "execute_result",
          "data": {
            "text/plain": [
              "((1089, 9), (1089, 1))"
            ]
          },
          "metadata": {
            "tags": []
          },
          "execution_count": 128
        }
      ]
    },
    {
      "cell_type": "code",
      "metadata": {
        "colab": {
          "base_uri": "https://localhost:8080/"
        },
        "id": "ROun0Q7Gd9mr",
        "outputId": "d3f66a15-7160-4a1e-e745-3fabaefad6c3"
      },
      "source": [
        "X_test = scalerX.fit_transform(X_test)\n",
        "y_test = scalerY.fit_transform(y_test)\n",
        "\n",
        "X_test, y_test = np.array(X_test), np.array(y_test)\n",
        "X_testLSTM, y_testLSTM = np.reshape(X_test, (X_test.shape[0], X_test.shape[1], 1)), np.array(y_test)\n",
        "X_testLSTM.shape, y_testLSTM.shape"
      ],
      "execution_count": 129,
      "outputs": [
        {
          "output_type": "execute_result",
          "data": {
            "text/plain": [
              "((1089, 9, 1), (1089, 1))"
            ]
          },
          "metadata": {
            "tags": []
          },
          "execution_count": 129
        }
      ]
    },
    {
      "cell_type": "code",
      "metadata": {
        "id": "ObGptQk9eBao"
      },
      "source": [
        "y_hatLSTM = model.predict(X_testLSTM)\n"
      ],
      "execution_count": 130,
      "outputs": []
    },
    {
      "cell_type": "code",
      "metadata": {
        "id": "SPeiihmLa9P1"
      },
      "source": [
        "y_hat_rbf = regr_rbf.predict(X_test)\n",
        "y_hat_lin = regr_lin.predict(X_test)\n",
        "y_hat_rfr = regr_rfr.predict(X_test)\n",
        "y_hat_gbr = regr_gbr.predict(X_test)"
      ],
      "execution_count": 131,
      "outputs": []
    },
    {
      "cell_type": "code",
      "metadata": {
        "id": "AOZ0_8rSeM8_"
      },
      "source": [
        "y_hatLSTM = scalerY.inverse_transform(y_hatLSTM)\n",
        "y_testLSTM = scalerY.inverse_transform(y_testLSTM)"
      ],
      "execution_count": 132,
      "outputs": []
    },
    {
      "cell_type": "code",
      "metadata": {
        "id": "MC3Wc1hybBWS"
      },
      "source": [
        "y_hat_rbf = np.reshape(y_hat_rbf, (y_hat_rbf.shape[0], 1))\n",
        "y_hat_lin = np.reshape(y_hat_lin, (y_hat_lin.shape[0], 1))\n",
        "y_hat_rfr = np.reshape(y_hat_rfr, (y_hat_rfr.shape[0], 1))\n",
        "y_hat_gbr = np.reshape(y_hat_gbr, (y_hat_gbr.shape[0], 1))"
      ],
      "execution_count": 133,
      "outputs": []
    },
    {
      "cell_type": "code",
      "metadata": {
        "id": "9uFsHXkYbFDI"
      },
      "source": [
        "y_hat_rbf = scalerY.inverse_transform(y_hat_rbf)\n",
        "y_hat_lin = scalerY.inverse_transform(y_hat_lin)\n",
        "y_hat_rfr = scalerY.inverse_transform(y_hat_rfr)\n",
        "y_hat_gbr = scalerY.inverse_transform(y_hat_gbr)\n",
        "y_test = scalerY.inverse_transform(y_test)"
      ],
      "execution_count": 134,
      "outputs": []
    },
    {
      "cell_type": "markdown",
      "metadata": {
        "id": "7aY1MS0644nT"
      },
      "source": [
        "## LSTM result plot"
      ]
    },
    {
      "cell_type": "code",
      "metadata": {
        "colab": {
          "base_uri": "https://localhost:8080/",
          "height": 497
        },
        "id": "ac2SRtC2eRAb",
        "outputId": "590019f7-5a32-460e-d493-48bb7afecc07"
      },
      "source": [
        "plt.figure(figsize=(12, 8))\n",
        "plt.plot(y_testLSTM, color='red', label='Real Prices')\n",
        "plt.plot(y_hatLSTM, color='blue', label='Predicted Prices(LSTM)')\n",
        "plt.xlabel('Time')\n",
        "plt.ylabel('Close Price')\n",
        "plt.legend()\n",
        "plt.show()"
      ],
      "execution_count": 135,
      "outputs": [
        {
          "output_type": "display_data",
          "data": {
            "image/png": "[encoded data removed]",
            "text/plain": [
              "<Figure size 864x576 with 1 Axes>"
            ]
          },
          "metadata": {
            "tags": [],
            "needs_background": "light"
          }
        }
      ]
    },
    {
      "cell_type": "markdown",
      "metadata": {
        "id": "fh4LPAVz5AeY"
      },
      "source": [
        "## SVR - RBF result plot"
      ]
    },
    {
      "cell_type": "code",
      "metadata": {
        "colab": {
          "base_uri": "https://localhost:8080/",
          "height": 497
        },
        "id": "lhpb5PCEbJLL",
        "outputId": "b50cb69c-98e5-4e9e-ba72-2a9b168381c7"
      },
      "source": [
        "plt.figure(figsize=(12, 8))\n",
        "plt.plot(y_test, color='red', label='Real Prices')\n",
        "plt.plot(y_hat_rbf, color='blue', label='Predicted Prices(RBF)')\n",
        "plt.xlabel('Time')\n",
        "plt.ylabel('Close Price')\n",
        "plt.legend()\n",
        "plt.show()"
      ],
      "execution_count": 136,
      "outputs": [
        {
          "output_type": "display_data",
          "data": {
            "image/png": "[encoded data removed]",
            "text/plain": [
              "<Figure size 864x576 with 1 Axes>"
            ]
          },
          "metadata": {
            "tags": [],
            "needs_background": "light"
          }
        }
      ]
    },
    {
      "cell_type": "markdown",
      "metadata": {
        "id": "7GDgb_i75ODq"
      },
      "source": [
        "##SVR - Linear result plot"
      ]
    },
    {
      "cell_type": "code",
      "metadata": {
        "colab": {
          "base_uri": "https://localhost:8080/",
          "height": 497
        },
        "id": "dTvjS2MQbRT6",
        "outputId": "29e2f82f-39d7-43b0-c0a1-5d06206df86e"
      },
      "source": [
        "plt.figure(figsize=(12, 8))\n",
        "plt.plot(y_test, color='red', label='Real Prices')\n",
        "plt.plot(y_hat_lin, color='blue', label='Predicted Prices(Linear)')\n",
        "plt.xlabel('Time')\n",
        "plt.ylabel('Close Price')\n",
        "plt.legend()\n",
        "plt.show()"
      ],
      "execution_count": 137,
      "outputs": [
        {
          "output_type": "display_data",
          "data": {
            "image/png": "[encoded data removed]",
            "text/plain": [
              "<Figure size 864x576 with 1 Axes>"
            ]
          },
          "metadata": {
            "tags": [],
            "needs_background": "light"
          }
        }
      ]
    },
    {
      "cell_type": "markdown",
      "metadata": {
        "id": "YgYhmZVa5Tgw"
      },
      "source": [
        "## Random Forest result plot"
      ]
    },
    {
      "cell_type": "code",
      "metadata": {
        "colab": {
          "base_uri": "https://localhost:8080/",
          "height": 497
        },
        "id": "SenLSzevbWbs",
        "outputId": "b1a1b103-0a2a-4e4e-b517-3530af32a255"
      },
      "source": [
        "plt.figure(figsize=(12, 8))\n",
        "plt.plot(y_test, color='red', label='Real Prices')\n",
        "plt.plot(y_hat_rfr, color='blue', label='Predicted Prices(RandomForestRegressor)')\n",
        "plt.xlabel('Time')\n",
        "plt.ylabel('Close Price')\n",
        "plt.legend()\n",
        "plt.show()"
      ],
      "execution_count": 138,
      "outputs": [
        {
          "output_type": "display_data",
          "data": {
            "image/png": "[encoded data removed]",
            "text/plain": [
              "<Figure size 864x576 with 1 Axes>"
            ]
          },
          "metadata": {
            "tags": [],
            "needs_background": "light"
          }
        }
      ]
    },
    {
      "cell_type": "markdown",
      "metadata": {
        "id": "hZcHOaFK5h_r"
      },
      "source": [
        "## Gradient Boost result plot"
      ]
    },
    {
      "cell_type": "code",
      "metadata": {
        "colab": {
          "base_uri": "https://localhost:8080/",
          "height": 497
        },
        "id": "fBJYs9x0bWmI",
        "outputId": "f96fa03c-4442-478e-d8f3-f78e137f69c2"
      },
      "source": [
        "plt.figure(figsize=(12, 8))\n",
        "plt.plot(y_test, color='red', label='Real Prices')\n",
        "plt.plot(y_hat_gbr, color='blue', label='Predicted Prices(GradientBoostingRegressor)')\n",
        "plt.xlabel('Time')\n",
        "plt.ylabel('Close Price')\n",
        "plt.legend()\n",
        "plt.show()"
      ],
      "execution_count": 139,
      "outputs": [
        {
          "output_type": "display_data",
          "data": {
            "image/png": "[encoded data removed]",
            "text/plain": [
              "<Figure size 864x576 with 1 Axes>"
            ]
          },
          "metadata": {
            "tags": [],
            "needs_background": "light"
          }
        }
      ]
    },
    {
      "cell_type": "markdown",
      "metadata": {
        "id": "yjcJVFVk-HwO"
      },
      "source": [
        "#Performance Metrics - MSE and MAE"
      ]
    },
    {
      "cell_type": "code",
      "metadata": {
        "colab": {
          "base_uri": "https://localhost:8080/"
        },
        "id": "X0oHzWDO61k1",
        "outputId": "df3872f3-4f6b-4ef9-8135-5d75eea9b3ca"
      },
      "source": [
        "MSE_rbf = mean_squared_error(y_hat_rbf, y_test)\n",
        "MAE_rbf = mean_absolute_error(y_hat_rbf, y_test)\n",
        "\n",
        "print('MSE for RBF - ', MSE_rbf)\n",
        "print('MAE for RBF - ', MAE_rbf)"
      ],
      "execution_count": 140,
      "outputs": [
        {
          "output_type": "stream",
          "text": [
            "MSE for RBF -  102182.53525859524\n",
            "MAE for RBF -  244.76600789650345\n"
          ],
          "name": "stdout"
        }
      ]
    },
    {
      "cell_type": "code",
      "metadata": {
        "colab": {
          "base_uri": "https://localhost:8080/"
        },
        "id": "tzQeIGj18RBt",
        "outputId": "af868201-3cad-44fa-d3be-3258756f1d97"
      },
      "source": [
        "MSE_lin = mean_squared_error(y_hat_lin, y_test)\n",
        "MAE_lin = mean_absolute_error(y_hat_lin, y_test)\n",
        "\n",
        "print('MSE for Lin - ', MSE_lin)\n",
        "print('MAE for Lin - ', MAE_lin)"
      ],
      "execution_count": 141,
      "outputs": [
        {
          "output_type": "stream",
          "text": [
            "MSE for Lin -  126825.07628536088\n",
            "MAE for Lin -  283.8999926777504\n"
          ],
          "name": "stdout"
        }
      ]
    },
    {
      "cell_type": "code",
      "metadata": {
        "colab": {
          "base_uri": "https://localhost:8080/"
        },
        "id": "R4GWAh7W8l6U",
        "outputId": "7821af22-f920-4fa3-87d0-00557a2aaf41"
      },
      "source": [
        "MSE_rfr = mean_squared_error(y_hat_rfr, y_test)\n",
        "MAE_rfr = mean_absolute_error(y_hat_rfr, y_test)\n",
        "\n",
        "print('MSE for rfr - ', MSE_rfr)\n",
        "print('MAE for rfr - ', MAE_rfr)\n"
      ],
      "execution_count": 142,
      "outputs": [
        {
          "output_type": "stream",
          "text": [
            "MSE for rfr -  9013.042900734907\n",
            "MAE for rfr -  64.18101455366633\n"
          ],
          "name": "stdout"
        }
      ]
    },
    {
      "cell_type": "code",
      "metadata": {
        "colab": {
          "base_uri": "https://localhost:8080/"
        },
        "id": "Vi8v-atd818t",
        "outputId": "36ce0cef-2211-4c05-b698-929c5782426c"
      },
      "source": [
        "MSE_gbr = mean_squared_error(y_hat_gbr, y_test)\n",
        "MAE_gbr = mean_absolute_error(y_hat_gbr, y_test)\n",
        "\n",
        "print('MSE for gbr - ', MSE_gbr)\n",
        "print('MAE for gbr - ', MAE_gbr)"
      ],
      "execution_count": 143,
      "outputs": [
        {
          "output_type": "stream",
          "text": [
            "MSE for gbr -  7403.122186201497\n",
            "MAE for gbr -  56.9998212277345\n"
          ],
          "name": "stdout"
        }
      ]
    },
    {
      "cell_type": "code",
      "metadata": {
        "colab": {
          "base_uri": "https://localhost:8080/"
        },
        "id": "5nRZBu4Z9EyX",
        "outputId": "3661d956-3523-4bbb-f648-75df57e17a16"
      },
      "source": [
        "MSE_LSTM = mean_squared_error(y_hatLSTM, y_testLSTM)\n",
        "MAE_LSTM = mean_absolute_error(y_hatLSTM, y_testLSTM)\n",
        "\n",
        "print('MSE for lstm - ', MSE_LSTM)\n",
        "print('MAE for lstm - ', MAE_LSTM)"
      ],
      "execution_count": 144,
      "outputs": [
        {
          "output_type": "stream",
          "text": [
            "MSE for lstm -  151607.34086319798\n",
            "MAE for lstm -  375.0212739970731\n"
          ],
          "name": "stdout"
        }
      ]
    }
  ]
}